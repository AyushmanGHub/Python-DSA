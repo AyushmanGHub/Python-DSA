{
 "cells": [
  {
   "cell_type": "markdown",
   "id": "57bb7b58",
   "metadata": {},
   "source": [
    "### 74. Search a 2D Matrix\n",
    "You are given an m x n integer matrix matrix with the following two properties:<br>\n",
    "\n",
    "Each row is sorted in non-decreasing order.<br>\n",
    "The first integer of each row is greater than the last integer of the previous row.<br>\n",
    "Given an integer target, return true if target is in matrix or false otherwise.<br>\n",
    "\n",
    "You must write a solution in `O(log(m * n))` time complexity."
   ]
  },
  {
   "cell_type": "code",
   "execution_count": null,
   "id": "a9b46326",
   "metadata": {},
   "outputs": [],
   "source": [
    "def searchMatrix(matrix, target):\n",
    "# matrix : List[List[int]]\n",
    "    if not matrix or not matrix[0]:\n",
    "        return False\n",
    "\n",
    "    m = len(matrix)\n",
    "    n = len(matrix[0])\n",
    "\n",
    "    if n == 1 and m == 1 and matrix[0][0] == target:\n",
    "        return True \n",
    "    \n",
    "    left = 0\n",
    "    right = m*n-1\n",
    "\n",
    "    while left <= right:\n",
    "        mid = (left + right) // 2\n",
    "        row, col = divmod(mid, n) \n",
    "        mid_value = matrix[row][col]\n",
    "        \n",
    "        if mid_value == target:\n",
    "            return True\n",
    "        elif mid_value < target:\n",
    "            left = mid + 1\n",
    "        else:\n",
    "            right = mid - 1\n",
    "    return False"
   ]
  }
 ],
 "metadata": {
  "language_info": {
   "name": "python"
  }
 },
 "nbformat": 4,
 "nbformat_minor": 5
}
