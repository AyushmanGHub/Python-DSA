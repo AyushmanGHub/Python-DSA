{
 "cells": [
  {
   "cell_type": "markdown",
   "id": "b77eda5f",
   "metadata": {},
   "source": [
    "## 139. Word Break Problem\n",
    "\n",
    "\n",
    "Given a string `s` and a dictionary of strings `wordDict`, return `true` if `s` can be segmented into a space-separated sequence of one or more dictionary words.\n",
    "\n",
    "**Note:** The same word in the dictionary may be reused multiple times in the segmentation.\n",
    "---\n",
    "\n",
    "### Examples\n",
    "\n",
    "**Example 1:**\n",
    "\n",
    "```python\n",
    "Input: s = \"leetcode\", wordDict = [\"leet\",\"code\"]\n",
    "Output: true\n",
    "```\n",
    "\n",
    "**Explanation:**\n",
    "Return `true` because \"leetcode\" can be segmented as \"leet code\".\n",
    "\n",
    "\n",
    "**Example 2:**\n",
    "\n",
    "```python\n",
    "Input: s = \"catsandog\", wordDict = [\"cats\",\"dog\",\"sand\",\"and\",\"cat\"]\n",
    "Output: false\n",
    "```\n",
    "\n",
    "**Explanation:**\n",
    "Return `false` because there is no valid segmentation.\n",
    "\n",
    "\n"
   ]
  },
  {
   "cell_type": "code",
   "execution_count": null,
   "id": "8e0ec5b4",
   "metadata": {},
   "outputs": [],
   "source": [
    "\n",
    "def wordBreak(s, wordDict):\n",
    "    n = len(s)\n",
    "    meme = [False] * (n+1)\n",
    "    meme[0] = True\n",
    "\n",
    "    for i in range(1, n+1):\n",
    "        for j in range(i):\n",
    "            if meme[j] and s[j:i] in wordDict:\n",
    "                meme[i] = True\n",
    "                break\n",
    "\n",
    "    return meme[len(s)]"
   ]
  },
  {
   "cell_type": "code",
   "execution_count": null,
   "id": "0d40a0f8",
   "metadata": {},
   "outputs": [],
   "source": [
    "s = \"catsandog\"\n",
    "print(s[0:2])\n",
    "wordDict = [\"cats\",\"dog\",\"sand\",\"and\",\"cat\"]\n",
    "wordBreak(s,wordDict)"
   ]
  },
  {
   "cell_type": "code",
   "execution_count": null,
   "id": "b2a4cb7c",
   "metadata": {},
   "outputs": [],
   "source": [
    "s = \"leetcode\"\n",
    "wordDict = [\"leet\",\"code\"]\n",
    "wordBreak(s,wordDict)\n"
   ]
  }
 ],
 "metadata": {
  "language_info": {
   "name": "python"
  }
 },
 "nbformat": 4,
 "nbformat_minor": 5
}
