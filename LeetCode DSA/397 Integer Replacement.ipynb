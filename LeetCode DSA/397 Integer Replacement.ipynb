{
 "cells": [
  {
   "cell_type": "markdown",
   "id": "ccc7d0da",
   "metadata": {},
   "source": [
    "## 397. Integer Replacement\n",
    "\n",
    "Given a positive integer `n`, you can apply one of the following operations:\n",
    "\n",
    "- If `n` is even, replace `n` with `n / 2`.\n",
    "- If `n` is odd, replace `n` with either `n + 1` or `n - 1`.\n",
    "\n",
    "Return the **minimum number of operations** needed for `n` to become `1`.\n",
    "\n",
    "---\n",
    "\n",
    "### Examples\n",
    "\n",
    "**Example 1:**\n",
    "\n",
    "```python\n",
    "Input: n = 8\n",
    "Output: 3\n",
    "```\n",
    "\n",
    "**Explanation:**\n",
    "8 → 4 → 2 → 1\n",
    "\n",
    "---\n",
    "\n",
    "**Example 2:**\n",
    "\n",
    "```python\n",
    "Input: n = 7\n",
    "Output: 4\n",
    "```\n",
    "\n",
    "**Explanation:**\n",
    "7 → 8 → 4 → 2 → 1\n",
    "or\n",
    "7 → 6 → 3 → 2 → 1\n",
    "\n",
    "\n",
    "- **Time Complexity:** \\(O(\\log n)\\) – Each recursive call reduces `n` significantly.\n",
    "- **Space Complexity:** \\(O(\\log n)\\) – Space used by the recursion stack and memoization."
   ]
  },
  {
   "cell_type": "code",
   "execution_count": null,
   "id": "f86c75bb",
   "metadata": {},
   "outputs": [],
   "source": [
    "def integerReplacement(n):\n",
    "    meme = [float('inf')]*(n+1)\n",
    "    meme[0] = 0\n",
    "    meme[1] = 0\n",
    "\n",
    "    for i in range(2,n+1):\n",
    "        if i % 2 == 0:\n",
    "            meme[i] = meme[i // 2] + 1\n",
    "        else:\n",
    "            meme[i] = min((meme[(i - 1) // 2] + 1), (meme[(i + 1) // 2] + 1)) + 1\n",
    "    return meme[n]"
   ]
  },
  {
   "cell_type": "code",
   "execution_count": null,
   "id": "1b924e31",
   "metadata": {},
   "outputs": [],
   "source": [
    "def integerReplacement(n):\n",
    "    count = 0\n",
    "    while n != 1:\n",
    "        if n % 2 == 0:\n",
    "            n //= 2\n",
    "        else:\n",
    "            if n == 3 or (n & 2) == 0:\n",
    "                n -= 1\n",
    "            else:\n",
    "                n += 1\n",
    "        count += 1\n",
    "    return count"
   ]
  },
  {
   "cell_type": "code",
   "execution_count": null,
   "id": "1b89eb6a",
   "metadata": {},
   "outputs": [],
   "source": [
    "integerReplacement(100000000)"
   ]
  }
 ],
 "metadata": {
  "language_info": {
   "name": "python"
  }
 },
 "nbformat": 4,
 "nbformat_minor": 5
}
