{
 "cells": [
  {
   "cell_type": "markdown",
   "id": "c7bb9f0c",
   "metadata": {},
   "source": [
    "## **1043. Partition Array for Maximum Sum**\n",
    "\n",
    "### **Problem Statement**\n",
    "\n",
    "Given an integer array `arr`, partition the array into **contiguous** subarrays of length **at most `k`**. After partitioning, each subarray's values become the **maximum value** of that subarray.\n",
    "\n",
    "Return the **largest sum** of the array after partitioning.\n",
    "\n",
    "**Test cases** are generated so that the answer fits in a **32-bit integer**.\n",
    "\n",
    "---\n",
    "\n",
    "### **Examples**\n",
    "\n",
    "**Example 1:**\n",
    "```python\n",
    "Input: arr = [1,15,7,9,2,5,10], k = 3\n",
    "Output: 84\n",
    "```\n",
    "**Explanation:**  \n",
    "We can partition the array as: `[15,15,15,9,10,10,10]`  \n",
    "Sum = \\(15 + 15 + 15 + 9 + 10 + 10 + 10 = 84\\)\n",
    "\n",
    "---\n",
    "\n",
    "**Example 2:**\n",
    "```python\n",
    "Input: arr = [1,4,1,5,7,3,6,1,9,9,3], k = 4\n",
    "Output: 83\n",
    "```\n",
    "\n",
    "---\n",
    "\n",
    "**Example 3:**\n",
    "```python\n",
    "Input: arr = [1], k = 1\n",
    "Output: 1\n",
    "```\n",
    "\n",
    "### **Complexity Analysis**\n",
    "- **Time Complexity**: \\(O(nk)\\)  \n",
    "  - For each index `i`, we loop back `k` steps to find the maximum sum.\n",
    "- **Space Complexity**: \\(O(n)\\)  \n",
    "  - We use a `dp` array of length `n + 1`."
   ]
  },
  {
   "cell_type": "code",
   "execution_count": null,
   "id": "ef12b20e",
   "metadata": {},
   "outputs": [],
   "source": [
    "\n",
    "def maxSumAfterPartitioning(arr, k):\n",
    "    n = len(arr)\n",
    "    dp = [0] * (n + 1)\n",
    "    \n",
    "    # Iterate through the array\n",
    "    for i in range(1,n+1):\n",
    "        max_val = 0\n",
    "        \n",
    "        # Try different partition sizes up to k\n",
    "        for j in range(1, min(k, i) + 1):\n",
    "            max_val = max(max_val, arr[i - j])\n",
    "            \n",
    "            # Update dp[i] with the best possible sum\n",
    "            dp[i] = max(dp[i], dp[i - j] + max_val * j)\n",
    "            print(dp)\n",
    "    return dp[n]\n",
    "\n"
   ]
  },
  {
   "cell_type": "code",
   "execution_count": null,
   "id": "4b84ba43",
   "metadata": {},
   "outputs": [],
   "source": [
    "def maxSumAfterPartitioning(arr, k):\n",
    "    n = len(arr)\n",
    "    dp = [0] * n  # DP array to store the max sum up to index i\n",
    "\n",
    "    for i in range(n):  # Iterate over each index\n",
    "        max_val = 0  # Track max value in the current partition\n",
    "        for j in range(1, k + 1):  # Try different partition sizes\n",
    "            if i - j + 1 >= 0:  # Ensure index is valid\n",
    "                max_val = max(max_val, arr[i - j + 1])  # Update max value\n",
    "                prev_sum = dp[i - j] if i - j >= 0 else 0\n",
    "                dp[i] = max(dp[i], prev_sum + max_val * j)  # Update DP table\n",
    "    return dp[-1]  # Return the max sum for the entire array\n"
   ]
  },
  {
   "cell_type": "code",
   "execution_count": null,
   "id": "dba7f949",
   "metadata": {},
   "outputs": [],
   "source": [
    "print(maxSumAfterPartitioning([1, 15, 7, 9, 2, 5, 10], 3))  # Output: 84\n",
    "print(maxSumAfterPartitioning([1, 4, 1, 5, 7, 3, 6, 1, 9, 9, 3], 4))  # Output: 83\n",
    "print(maxSumAfterPartitioning([1], 1))  # Output: 1"
   ]
  }
 ],
 "metadata": {
  "language_info": {
   "name": "python"
  }
 },
 "nbformat": 4,
 "nbformat_minor": 5
}
