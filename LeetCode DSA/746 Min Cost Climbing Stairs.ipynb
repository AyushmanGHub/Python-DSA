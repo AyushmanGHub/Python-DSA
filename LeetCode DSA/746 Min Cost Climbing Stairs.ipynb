{
 "cells": [
  {
   "cell_type": "markdown",
   "id": "301cede4",
   "metadata": {},
   "source": [
    "## 746. Min Cost Climbing Stairs\n",
    "\n",
    "### Problem Statement\n",
    "\n",
    "You are given an integer array `cost` where `cost[i]` is the cost of the `i`-th step on a staircase. Once you pay the cost, you can either climb **one** or **two** steps.\n",
    "\n",
    "You can either start from the step with **index 0**, or the step with **index 1**.\n",
    "\n",
    "Return the **minimum cost** to reach the top of the floor.\n",
    "\n",
    "---\n",
    "\n",
    "### Examples\n",
    "\n",
    "**Example 1:**\n",
    "\n",
    "```python\n",
    "Input: cost = [10,15,20]\n",
    "Output: 15\n",
    "```\n",
    "\n",
    "**Explanation:**\n",
    "- You will start at index `1`.\n",
    "- Pay `15` and climb **two** steps to reach the top.\n",
    "- The total cost is **15**.\n",
    "\n",
    "---\n",
    "\n",
    "**Example 2:**\n",
    "\n",
    "```python\n",
    "Input: cost = [1,100,1,1,1,100,1,1,100,1]\n",
    "Output: 6\n",
    "```\n",
    "\n",
    "**Explanation:**\n",
    "- You will start at index `0`.\n",
    "- Pay `1` and climb **two** steps to reach index `2`.\n",
    "- Pay `1` and climb **two** steps to reach index `4`.\n",
    "- Pay `1` and climb **two** steps to reach index `6`.\n",
    "- Pay `1` and climb **one** step to reach index `7`.\n",
    "- Pay `1` and climb **two** steps to reach index `9`.\n",
    "- Pay `1` and climb **one** step to reach the top.\n",
    "\n",
    "The total cost is **6**.\n",
    "\n",
    "\n"
   ]
  },
  {
   "cell_type": "code",
   "execution_count": null,
   "id": "3e4819f8",
   "metadata": {},
   "outputs": [],
   "source": [
    "class Solution:\n",
    "    def minCostClimbingStairs(self, cost: List[int]) -> int:\n",
    "        n = len(cost)\n",
    "        meme =[0]*(n)\n",
    "        meme[0] = cost[0]\n",
    "        meme[1] = cost[1]\n",
    "        for i in range(2,n):\n",
    "            meme[i] = cost[i] + min(meme[i-1], meme[i-2])\n",
    "        return min (meme[n-2] , meme[n-1])\n",
    "\n",
    "        "
   ]
  }
 ],
 "metadata": {
  "language_info": {
   "name": "python"
  }
 },
 "nbformat": 4,
 "nbformat_minor": 5
}
