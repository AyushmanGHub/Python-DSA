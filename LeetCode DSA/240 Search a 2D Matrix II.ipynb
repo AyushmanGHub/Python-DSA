{
 "cells": [
  {
   "cell_type": "markdown",
   "id": "903bdb65",
   "metadata": {},
   "source": [
    "### 240. Search a 2D Matrix II\n",
    "Write an efficient algorithm that searches for a value target in an m x n integer matrix matrix. This matrix has the following properties:<br>\n",
    "Integers in each row are sorted in ascending from left to right.<br>\n",
    "Integers in each column are sorted in ascending from top to bottom."
   ]
  },
  {
   "cell_type": "code",
   "execution_count": null,
   "id": "3046bf35",
   "metadata": {},
   "outputs": [],
   "source": [
    "def searchMatrix(matrix, target):\n",
    "    # matrix: List[List[int]]\n",
    "    if not matrix:\n",
    "        return False\n",
    "\n",
    "    m = len(matrix)\n",
    "\n",
    "    row = 0\n",
    "    col = len(matrix[0]) -1\n",
    "    while row < m and col >= 0:\n",
    "        if matrix[row][col] == target:\n",
    "            return True\n",
    "        elif matrix[row][col] > target:\n",
    "            col -= 1 \n",
    "        else:\n",
    "            row += 1\n",
    "    return False"
   ]
  }
 ],
 "metadata": {
  "language_info": {
   "name": "python"
  }
 },
 "nbformat": 4,
 "nbformat_minor": 5
}
